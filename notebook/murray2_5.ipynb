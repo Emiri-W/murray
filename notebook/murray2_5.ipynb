{
  "cells": [
    {
      "cell_type": "markdown",
      "metadata": {},
      "source": [
        "# 2.5 離散型遅延モデル"
      ]
    },
    {
      "cell_type": "code",
      "execution_count": 14,
      "metadata": {
        "colab": {
          "background_save": true
        },
        "id": "hoNOGxucVfA2"
      },
      "outputs": [],
      "source": [
        "import numpy as np\n",
        "import matplotlib.pyplot as plt\n",
        "from ipywidgets import interact\n",
        "import copy"
      ]
    },
    {
      "cell_type": "code",
      "execution_count": 29,
      "metadata": {
        "colab": {
          "base_uri": "https://localhost:8080/"
        },
        "id": "jf0LYPsSa845",
        "outputId": "f33523f5-59ce-41c2-b933-d99eacc00e6b"
      },
      "outputs": [],
      "source": [
        "def sim(r, xi, T):\n",
        "    \"\"\"離散型遅延モデル（リッカー曲線）\n",
        "    \n",
        "    Args:\n",
        "        r (float): parameter (>0)\n",
        "        xi (array like): initial value\n",
        "        T (int): end time\n",
        "    Return (array): N(t)\n",
        "    \n",
        "    \"\"\"\n",
        "    x0, x1 = xi\n",
        "    res = list(copy.copy(xi))\n",
        "    for i in range(T-2):\n",
        "        x2 = x1*np.exp(r*(1 - x0))\n",
        "        res.append(x2)\n",
        "        x0, x1 = x1, x2\n",
        "    return np.array(res)\n",
        "\n",
        "def sim_and_plot(r, xi, T):\n",
        "    time = np.arange(T)\n",
        "    x = sim(r, xi, T)\n",
        "    fig, ax = plt.subplots()\n",
        "    ax.plot(time, x)\n",
        "    ax.set_ylim(0, 4)\n",
        "    ax.set_xlabel(\"$t$\")\n",
        "    ax.set_title(f\"$r$ = {r}\")"
      ]
    },
    {
      "cell_type": "code",
      "execution_count": 43,
      "metadata": {},
      "outputs": [
        {
          "data": {
            "image/png": "[encoded data removed]",
            "text/plain": [
              "<Figure size 432x288 with 1 Axes>"
            ]
          },
          "metadata": {
            "needs_background": "light"
          },
          "output_type": "display_data"
        }
      ],
      "source": [
        "# リッカー曲線の描画\n",
        "r = 0.3\n",
        "x = np.linspace(0, 2)\n",
        "plt.plot(x, x*np.exp(r*(1 - x)))\n",
        "plt.plot(x, x, c=\"k\")\n",
        "plt.show()"
      ]
    },
    {
      "cell_type": "code",
      "execution_count": 44,
      "metadata": {},
      "outputs": [
        {
          "data": {
            "image/png": "[encoded data removed]",
            "text/plain": [
              "<Figure size 432x288 with 1 Axes>"
            ]
          },
          "metadata": {
            "needs_background": "light"
          },
          "output_type": "display_data"
        }
      ],
      "source": [
        "r = 0.3\n",
        "xi = [0, 0.01]\n",
        "T = 100\n",
        "sim_and_plot(r, xi, T)"
      ]
    },
    {
      "cell_type": "code",
      "execution_count": 35,
      "metadata": {
        "colab": {
          "base_uri": "https://localhost:8080/",
          "height": 280,
          "referenced_widgets": [
            "83ac84701eb6468798c41a03f60478b1",
            "ca60f33878514ed2867ccd3525b8b35f",
            "93b83906ed4e471695cb756fc60189d2",
            "62064c9b6ff943ca8c468f0abe66beab",
            "816cf724e243410ab62150f3ff3d893f",
            "41fc6406b7a040ec87b49dc7510eb383",
            "226553a22d5f4a3d891aaa3e925db2fc"
          ]
        },
        "id": "wjRNWpfsYTEK",
        "outputId": "6afaf5b6-a526-43b6-8a98-895cc175c18f"
      },
      "outputs": [
        {
          "data": {
            "application/vnd.jupyter.widget-view+json": {
              "model_id": "96a38cdda5ce4d098a0bfbb64c2c8934",
              "version_major": 2,
              "version_minor": 0
            },
            "text/plain": [
              "interactive(children=(FloatSlider(value=0.799, description='r', max=1.5, min=0.1, step=0.001), Output()), _dom…"
            ]
          },
          "metadata": {},
          "output_type": "display_data"
        }
      ],
      "source": [
        "r = 0.1\n",
        "xi = [0, 0.01]\n",
        "T = 100\n",
        "\n",
        "interact(lambda r: sim_and_plot(r, xi, T), r=(0.1, 1.5, 0.001));"
      ]
    },
    {
      "cell_type": "code",
      "execution_count": null,
      "metadata": {
        "id": "A-WegCS_ZT5-"
      },
      "outputs": [],
      "source": []
    }
  ],
  "metadata": {
    "colab": {
      "collapsed_sections": [],
      "name": "Murray2_1.ipynb",
      "provenance": []
    },
    "kernelspec": {
      "display_name": "Python 3.8.8 ('base')",
      "language": "python",
      "name": "python3"
    },
    "language_info": {
      "codemirror_mode": {
        "name": "ipython",
        "version": 3
      },
      "file_extension": ".py",
      "mimetype": "text/x-python",
      "name": "python",
      "nbconvert_exporter": "python",
      "pygments_lexer": "ipython3",
      "version": "3.8.8"
    },
    "vscode": {
      "interpreter": {
        "hash": "40d3a090f54c6569ab1632332b64b2c03c39dcf918b08424e98f38b5ae0af88f"
      }
    },
    "widgets": {
      "application/vnd.jupyter.widget-state+json": {
        "226553a22d5f4a3d891aaa3e925db2fc": {
          "model_module": "@jupyter-widgets/base",
          "model_module_version": "1.2.0",
          "model_name": "LayoutModel",
          "state": {
            "_model_module": "@jupyter-widgets/base",
            "_model_module_version": "1.2.0",
            "_model_name": "LayoutModel",
            "_view_count": null,
            "_view_module": "@jupyter-widgets/base",
            "_view_module_version": "1.2.0",
            "_view_name": "LayoutView",
            "align_content": null,
            "align_items": null,
            "align_self": null,
            "border": null,
            "bottom": null,
            "display": null,
            "flex": null,
            "flex_flow": null,
            "grid_area": null,
            "grid_auto_columns": null,
            "grid_auto_flow": null,
            "grid_auto_rows": null,
            "grid_column": null,
            "grid_gap": null,
            "grid_row": null,
            "grid_template_areas": null,
            "grid_template_columns": null,
            "grid_template_rows": null,
            "height": null,
            "justify_content": null,
            "justify_items": null,
            "left": null,
            "margin": null,
            "max_height": null,
            "max_width": null,
            "min_height": null,
            "min_width": null,
            "object_fit": null,
            "object_position": null,
            "order": null,
            "overflow": null,
            "overflow_x": null,
            "overflow_y": null,
            "padding": null,
            "right": null,
            "top": null,
            "visibility": null,
            "width": null
          }
        },
        "41fc6406b7a040ec87b49dc7510eb383": {
          "model_module": "@jupyter-widgets/controls",
          "model_module_version": "1.5.0",
          "model_name": "SliderStyleModel",
          "state": {
            "_model_module": "@jupyter-widgets/controls",
            "_model_module_version": "1.5.0",
            "_model_name": "SliderStyleModel",
            "_view_count": null,
            "_view_module": "@jupyter-widgets/base",
            "_view_module_version": "1.2.0",
            "_view_name": "StyleView",
            "description_width": "",
            "handle_color": null
          }
        },
        "62064c9b6ff943ca8c468f0abe66beab": {
          "model_module": "@jupyter-widgets/base",
          "model_module_version": "1.2.0",
          "model_name": "LayoutModel",
          "state": {
            "_model_module": "@jupyter-widgets/base",
            "_model_module_version": "1.2.0",
            "_model_name": "LayoutModel",
            "_view_count": null,
            "_view_module": "@jupyter-widgets/base",
            "_view_module_version": "1.2.0",
            "_view_name": "LayoutView",
            "align_content": null,
            "align_items": null,
            "align_self": null,
            "border": null,
            "bottom": null,
            "display": null,
            "flex": null,
            "flex_flow": null,
            "grid_area": null,
            "grid_auto_columns": null,
            "grid_auto_flow": null,
            "grid_auto_rows": null,
            "grid_column": null,
            "grid_gap": null,
            "grid_row": null,
            "grid_template_areas": null,
            "grid_template_columns": null,
            "grid_template_rows": null,
            "height": null,
            "justify_content": null,
            "justify_items": null,
            "left": null,
            "margin": null,
            "max_height": null,
            "max_width": null,
            "min_height": null,
            "min_width": null,
            "object_fit": null,
            "object_position": null,
            "order": null,
            "overflow": null,
            "overflow_x": null,
            "overflow_y": null,
            "padding": null,
            "right": null,
            "top": null,
            "visibility": null,
            "width": null
          }
        },
        "816cf724e243410ab62150f3ff3d893f": {
          "model_module": "@jupyter-widgets/base",
          "model_module_version": "1.2.0",
          "model_name": "LayoutModel",
          "state": {
            "_model_module": "@jupyter-widgets/base",
            "_model_module_version": "1.2.0",
            "_model_name": "LayoutModel",
            "_view_count": null,
            "_view_module": "@jupyter-widgets/base",
            "_view_module_version": "1.2.0",
            "_view_name": "LayoutView",
            "align_content": null,
            "align_items": null,
            "align_self": null,
            "border": null,
            "bottom": null,
            "display": null,
            "flex": null,
            "flex_flow": null,
            "grid_area": null,
            "grid_auto_columns": null,
            "grid_auto_flow": null,
            "grid_auto_rows": null,
            "grid_column": null,
            "grid_gap": null,
            "grid_row": null,
            "grid_template_areas": null,
            "grid_template_columns": null,
            "grid_template_rows": null,
            "height": null,
            "justify_content": null,
            "justify_items": null,
            "left": null,
            "margin": null,
            "max_height": null,
            "max_width": null,
            "min_height": null,
            "min_width": null,
            "object_fit": null,
            "object_position": null,
            "order": null,
            "overflow": null,
            "overflow_x": null,
            "overflow_y": null,
            "padding": null,
            "right": null,
            "top": null,
            "visibility": null,
            "width": null
          }
        },
        "83ac84701eb6468798c41a03f60478b1": {
          "model_module": "@jupyter-widgets/controls",
          "model_module_version": "1.5.0",
          "model_name": "VBoxModel",
          "state": {
            "_dom_classes": [
              "widget-interact"
            ],
            "_model_module": "@jupyter-widgets/controls",
            "_model_module_version": "1.5.0",
            "_model_name": "VBoxModel",
            "_view_count": null,
            "_view_module": "@jupyter-widgets/controls",
            "_view_module_version": "1.5.0",
            "_view_name": "VBoxView",
            "box_style": "",
            "children": [
              "IPY_MODEL_ca60f33878514ed2867ccd3525b8b35f",
              "IPY_MODEL_93b83906ed4e471695cb756fc60189d2"
            ],
            "layout": "IPY_MODEL_62064c9b6ff943ca8c468f0abe66beab"
          }
        },
        "93b83906ed4e471695cb756fc60189d2": {
          "model_module": "@jupyter-widgets/output",
          "model_module_version": "1.0.0",
          "model_name": "OutputModel",
          "state": {
            "_dom_classes": [],
            "_model_module": "@jupyter-widgets/output",
            "_model_module_version": "1.0.0",
            "_model_name": "OutputModel",
            "_view_count": null,
            "_view_module": "@jupyter-widgets/output",
            "_view_module_version": "1.0.0",
            "_view_name": "OutputView",
            "layout": "IPY_MODEL_226553a22d5f4a3d891aaa3e925db2fc",
            "msg_id": "",
            "outputs": [
              {
                "data": {
                  "image/png": "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\n",
                  "text/plain": "<Figure size 432x288 with 1 Axes>"
                },
                "metadata": {
                  "needs_background": "light"
                },
                "output_type": "display_data"
              }
            ]
          }
        },
        "ca60f33878514ed2867ccd3525b8b35f": {
          "model_module": "@jupyter-widgets/controls",
          "model_module_version": "1.5.0",
          "model_name": "FloatSliderModel",
          "state": {
            "_dom_classes": [],
            "_model_module": "@jupyter-widgets/controls",
            "_model_module_version": "1.5.0",
            "_model_name": "FloatSliderModel",
            "_view_count": null,
            "_view_module": "@jupyter-widgets/controls",
            "_view_module_version": "1.5.0",
            "_view_name": "FloatSliderView",
            "continuous_update": true,
            "description": "dtheta",
            "description_tooltip": null,
            "disabled": false,
            "layout": "IPY_MODEL_816cf724e243410ab62150f3ff3d893f",
            "max": 4.5,
            "min": 3.5,
            "orientation": "horizontal",
            "readout": true,
            "readout_format": ".2f",
            "step": 0.01,
            "style": "IPY_MODEL_41fc6406b7a040ec87b49dc7510eb383",
            "value": 3.88
          }
        }
      }
    }
  },
  "nbformat": 4,
  "nbformat_minor": 0
}
